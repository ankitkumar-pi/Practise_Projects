{
 "cells": [
  {
   "cell_type": "code",
   "execution_count": null,
   "metadata": {},
   "outputs": [],
   "source": [
    "import pyttsx3\n",
    "import datetime\n",
    "import speech_recognition as sr \n",
    "import wikipedia\n",
    "import webbrowser\n",
    "import numpy as np\n",
    "import os\n",
    "import random\n",
    "from smtplib import SMTP\n",
    "import urllib.request\n",
    "import regex as re"
   ]
  },
  {
   "cell_type": "code",
   "execution_count": null,
   "metadata": {},
   "outputs": [],
   "source": [
    "engine = pyttsx3.init('sapi5')\n",
    "voices = engine.getProperty('voices')\n",
    "engine.setProperty('voice', voices[0].id)"
   ]
  },
  {
   "cell_type": "code",
   "execution_count": null,
   "metadata": {},
   "outputs": [],
   "source": [
    "def speak(audio):\n",
    "    engine.say(audio)\n",
    "    engine.runAndWait()"
   ]
  },
  {
   "cell_type": "code",
   "execution_count": 4,
   "metadata": {},
   "outputs": [],
   "source": [
    "def time():\n",
    "    Time  = datetime.datetime.now().strftime('%I:%M:%S')\n",
    "    speak(f' {Time}')\n",
    "\n",
    "def date():\n",
    "    date = (datetime.datetime.now().day)\n",
    "    year = (datetime.datetime.now().year)\n",
    "    month = (datetime.datetime.now().month)\n",
    "    if month == 1:\n",
    "        month = 'January'\n",
    "    elif month == 2:\n",
    "        month = 'february'\n",
    "    elif month == 3:\n",
    "        month = 'March'\n",
    "    elif month == 4:\n",
    "        month = 'April'\n",
    "    elif month == 5:\n",
    "        month = 'May'\n",
    "    elif month == 6:\n",
    "        month = 'June'\n",
    "    elif month == 7:\n",
    "        month = 'July'\n",
    "    elif month == 8:\n",
    "        month = 'Aaugust'\n",
    "    elif month == 9:\n",
    "        month = 'September'\n",
    "    elif month == 10:\n",
    "        month = 'October'\n",
    "    elif month == 11:\n",
    "        month = 'November'\n",
    "    elif month == 12:\n",
    "        month = 'December'\n",
    "        \n",
    "    \n",
    "    speak(f'{date},{month},{year}')"
   ]
  },
  {
   "cell_type": "code",
   "execution_count": 5,
   "metadata": {},
   "outputs": [],
   "source": [
    "def wishme():\n",
    "    hour = datetime.datetime.now().hour\n",
    "    if hour >=6 & hour < 12:\n",
    "        speak('Good Morning Mr Kumar ! I am jarvis , It''s my pleasure meeting you . How may I help you ')\n",
    "    elif hour >=12 & hour < 18:\n",
    "        speak('Good Afternoon Mr Kumar ! I am jarvis , It''s my pleasure meeting you . How may I help you')\n",
    "    elif hour >=18 & hour <24:\n",
    "        speak('Good Evening sir Mr Kumar ! I am jarvis , It''s my pleasure meeting you . How may I help you ')\n",
    "    else:\n",
    "        speak('According to you schedule you should sleep sir!')\n",
    "\n",
    "\n",
    "    \n"
   ]
  },
  {
   "cell_type": "code",
   "execution_count": 6,
   "metadata": {},
   "outputs": [],
   "source": [
    "def takeCommand():\n",
    "    \n",
    "    r = sr.Recognizer()\n",
    "    with sr.Microphone() as microphone:\n",
    "        print('Listening ..')\n",
    "        r.pause_threshold = 1\n",
    "        audio = r.listen(microphone)\n",
    "    try:\n",
    "        print('Recognizing...')\n",
    "        query = r.recognize_google(audio,language = 'en-in')\n",
    "        print(f'User said {query}\\n')\n",
    "        \n",
    "    except Exception as e:\n",
    "        #print(e)\n",
    "        print('Say that again please...')\n",
    "        return 'None'\n",
    "    return query\n",
    "\n"
   ]
  },
  {
   "cell_type": "code",
   "execution_count": 7,
   "metadata": {},
   "outputs": [],
   "source": [
    "def sendEmail(to, content):\n",
    "    server = smtplib.SMTP('smtp.gmail.com', 587)\n",
    "    server.ehlo()\n",
    "    server.starttls()\n",
    "    serve.login('youremail@gmail.com','your - password - here')\n",
    "    server.sendmail('youremail@gmail.com', to, content)\n",
    "    server.close()"
   ]
  },
  {
   "cell_type": "code",
   "execution_count": 8,
   "metadata": {},
   "outputs": [
    {
     "name": "stdout",
     "output_type": "stream",
     "text": [
      "https://www.youtube.com/watch?v=IvhQHgpcaqc\n"
     ]
    }
   ],
   "source": [
    "search_keyword = 'iron-man'\n",
    "html = urllib.request.urlopen('https://www.youtube.com/results?search_query=iron+man' + search_keyword)\n",
    "video_ids = re.findall(r\"watch\\?v=(\\S{11})\",html.read().decode())\n",
    "print('https://www.youtube.com/watch?v=' + video_ids[0])\n"
   ]
  },
  {
   "cell_type": "code",
   "execution_count": null,
   "metadata": {},
   "outputs": [
    {
     "name": "stdout",
     "output_type": "stream",
     "text": [
      "Listening ..\n",
      "Recognizing...\n",
      "Say that again please...\n",
      "Listening ..\n",
      "Recognizing...\n",
      "Say that again please...\n",
      "Listening ..\n"
     ]
    }
   ],
   "source": [
    "if __name__=='__main__':\n",
    "    wishme()\n",
    "    while True:\n",
    "        query = takeCommand().lower()\n",
    "        \n",
    "        if 'wikipedia' in query:\n",
    "            speak('Searching wikipedia...')\n",
    "            query = query.replace('wikipedia', '')\n",
    "            results = wikipedia.summary(query, sentences = 2)\n",
    "            speak('According to wikipedia')\n",
    "            speak(results)\n",
    "            \n",
    "        elif 'open youtube' in query:\n",
    "            webbrowser.open('https://www.youtube.com/watch?v=Yhvdvn_aWvw')\n",
    "            \n",
    "        elif 'open stack overflow' in query:\n",
    "            webbrowser.open('stackoverflow.com')\n",
    "            \n",
    "        elif 'play music' in query:\n",
    "            music_dir = 'C:\\\\Users\\\\Ankit Kumar\\\\OneDrive\\\\Desktop\\\\Songs'\n",
    "            songs = os.listdir(music_dir)\n",
    "            print(songs)\n",
    "            os.startfile(os.path.join(music_dir,songs[random.randint(1,len(songs))]))\n",
    "            \n",
    "        elif 'the time' in query:\n",
    "            \n",
    "            speak('Mr Kumar The current time is')\n",
    "            time()\n",
    "            \n",
    "        elif 'date' in query:\n",
    "            speak('Mr Kumar Today''s date is ')\n",
    "            date()\n",
    "            \n",
    "        elif 'stop' in query:\n",
    "            break\n",
    "        \n",
    "        elif 'quit' in query:\n",
    "            break\n",
    "        \n",
    "        elif 'excel' in query:\n",
    "            excelPath = \"C:\\\\Program Files\\\\Microsoft Office\\\\root\\\\Office16\\\\EXCEL.EXE\"\n",
    "            os.startfile(excelPath)\n",
    "            \n",
    "        elif 'email' in query:\n",
    "            try:\n",
    "                speak('What should I say?')\n",
    "                content = takeCommand()\n",
    "                to = 'ankitkumar3.1428@gmail.com'\n",
    "                sendEmail(to, content)\n",
    "                speak('Email has been sent!')\n",
    "            except Exception as e:\n",
    "                print(e)\n",
    "                speak('I am sorry sir, I was not able to excute the email.')\n",
    "                \n",
    " "
   ]
  },
  {
   "cell_type": "code",
   "execution_count": 74,
   "metadata": {},
   "outputs": [
    {
     "name": "stdout",
     "output_type": "stream",
     "text": [
      "Listening ..\n",
      "Recognizing...\n",
      "Say that again please...\n"
     ]
    }
   ],
   "source": [
    "if __name__=='__main__':\n",
    "    #wishme\n",
    "    while True:\n",
    "        query = takeCommand().lower()\n",
    "        query_output = query.split(' ')\n",
    "        if 'open' in query:\n",
    "            index_open = query_output.index('open')\n",
    "            #print(index_open)\n",
    "            web = query_output[index_open + 1]\n",
    "            speak(f'opening {web}...')\n",
    "            #print(web)\n",
    "            if 'open' in query:\n",
    "                True\n",
    "                #webbrowser.open(f'{web}.com')    \n",
    "                if web =='youtube':\n",
    "                    speak('Which video you want me to play for you ?')\n",
    "                    query = takeCommand().lower()\n",
    "                    query_output = query.split(' ')\n",
    "                    if 'play' in query:\n",
    "                        index_open = query_output.index('play')\n",
    "                        web = query_output[index_open + 1]\n",
    "                        speak(f'playing {web}...')\n",
    "                        search_keyword = web\n",
    "                        html = urllib.request.urlopen('https://www.youtube.com/results?search_query=' + f'{web}')\n",
    "                        video_ids = re.findall(r\"watch\\?v=(\\S{11})\",html.read().decode())\n",
    "                        video_init_link = 'https://www.youtube.com/watch?v='\n",
    "                        video_last_link = video_ids[random.randint(1,8)]\n",
    "                        video =  video_init_link + video_last_link\n",
    "                        print(video)\n",
    "                        webbrowser.open('video')\n",
    "                    \n",
    "        break\n",
    "\n",
    "        \n",
    "        \n",
    "        \n",
    "        \n",
    "\n",
    "        "
   ]
  },
  {
   "cell_type": "code",
   "execution_count": 70,
   "metadata": {},
   "outputs": [
    {
     "ename": "IndentationError",
     "evalue": "unindent does not match any outer indentation level (<tokenize>, line 8)",
     "output_type": "error",
     "traceback": [
      "\u001b[1;36m  File \u001b[1;32m\"<tokenize>\"\u001b[1;36m, line \u001b[1;32m8\u001b[0m\n\u001b[1;33m    elif 'open youtube' in query:\u001b[0m\n\u001b[1;37m    ^\u001b[0m\n\u001b[1;31mIndentationError\u001b[0m\u001b[1;31m:\u001b[0m unindent does not match any outer indentation level\n"
     ]
    }
   ],
   "source": [
    "        if 'wikipedia' in query:\n",
    "            speak('Searching wikipedia...')\n",
    "            query = query.replace('wikipedia', '')\n",
    "            results = wikipedia.summary(query, sentences = 2)\n",
    "            speak('According to wikipedia')\n",
    "            speak(results)\n",
    "            \n",
    "        elif 'open youtube' in query:\n",
    "            webbrowser.open('https://www.youtube.com/watch?v=Yhvdvn_aWvw')\n",
    "            \n",
    "        elif 'open stack overflow' in query:\n",
    "            webbrowser.open('stackoverflow.com')\n",
    "            \n",
    "        elif 'play music' in query:\n",
    "            music_dir = 'C:\\\\Users\\\\Ankit Kumar\\\\OneDrive\\\\Desktop\\\\Songs'\n",
    "            songs = os.listdir(music_dir)\n",
    "            print(songs)\n",
    "            os.startfile(os.path.join(music_dir,songs[random.randint(1,len(songs))]))\n",
    "            \n",
    "        elif 'the time' in query:\n",
    "            \n",
    "            speak('Mr Kumar The current time is')\n",
    "            time()\n",
    "            \n",
    "        elif 'date' in query:\n",
    "            speak('Mr Kumar Today''s date is ')\n",
    "            date()\n",
    "            \n",
    "        elif 'stop' in query:\n",
    "            break\n",
    "        \n",
    "        elif 'quit' in query:\n",
    "            break\n",
    "        \n",
    "        elif 'excel' in query:\n",
    "            excelPath = \"C:\\\\Program Files\\\\Microsoft Office\\\\root\\\\Office16\\\\EXCEL.EXE\"\n",
    "            os.startfile(excelPath)\n",
    "            \n",
    "        elif 'email' in query:\n",
    "            try:\n",
    "                speak('What should I say?')\n",
    "                content = takeCommand()\n",
    "                to = 'ankitkumar3.1428@gmail.com'\n",
    "                sendEmail(to, content)\n",
    "                speak('Email has been sent!')\n",
    "            except Exception as e:\n",
    "                print(e)\n",
    "                speak('I am sorry sir, I was not able to excute the email.')\n",
    "                \n",
    " "
   ]
  },
  {
   "cell_type": "code",
   "execution_count": 26,
   "metadata": {},
   "outputs": [],
   "source": [
    "msg = 'Hello brother'\n"
   ]
  },
  {
   "cell_type": "code",
   "execution_count": 27,
   "metadata": {},
   "outputs": [],
   "source": [
    "word = msg.split(' ')"
   ]
  },
  {
   "cell_type": "code",
   "execution_count": 28,
   "metadata": {},
   "outputs": [
    {
     "name": "stdout",
     "output_type": "stream",
     "text": [
      "['Hello', 'brother']\n"
     ]
    }
   ],
   "source": [
    "print(word)"
   ]
  },
  {
   "cell_type": "code",
   "execution_count": 29,
   "metadata": {},
   "outputs": [
    {
     "data": {
      "text/plain": [
       "'Hello'"
      ]
     },
     "execution_count": 29,
     "metadata": {},
     "output_type": "execute_result"
    }
   ],
   "source": [
    "word[0]"
   ]
  },
  {
   "cell_type": "code",
   "execution_count": null,
   "metadata": {},
   "outputs": [],
   "source": []
  }
 ],
 "metadata": {
  "kernelspec": {
   "display_name": "Python 3",
   "language": "python",
   "name": "python3"
  },
  "language_info": {
   "codemirror_mode": {
    "name": "ipython",
    "version": 3
   },
   "file_extension": ".py",
   "mimetype": "text/x-python",
   "name": "python",
   "nbconvert_exporter": "python",
   "pygments_lexer": "ipython3",
   "version": "3.8.5"
  }
 },
 "nbformat": 4,
 "nbformat_minor": 4
}
