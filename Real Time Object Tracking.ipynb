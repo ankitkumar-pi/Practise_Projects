{
 "cells": [
  {
   "cell_type": "code",
   "execution_count": 37,
   "metadata": {},
   "outputs": [],
   "source": [
    "import cv2\n",
    "import numpy as np\n",
    "from matplotlib import pyplot as plt"
   ]
  },
  {
   "cell_type": "code",
   "execution_count": null,
   "metadata": {},
   "outputs": [],
   "source": []
  },
  {
   "cell_type": "code",
   "execution_count": 47,
   "metadata": {},
   "outputs": [
    {
     "data": {
      "image/png": "[encoded data removed]",
      "text/plain": [
       "<Figure size 432x288 with 1 Axes>"
      ]
     },
     "metadata": {
      "needs_background": "light"
     },
     "output_type": "display_data"
    }
   ],
   "source": [
    "\n",
    "\n",
    "img =cv2.imread(\"Tennis.jpg\")\n",
    "roi = img[ 250: 465, 342: 565]\n",
    "x = 342\n",
    "y = 250\n",
    "width = 233\n",
    "height = 215\n",
    "hsv_roi = cv2.cvtColor(roi,cv2.COLOR_BGR2HSV)\n",
    "roi_hist = cv2.calcHist([hsv_roi],[0],None,[180],[0,180])\n",
    "cv2.imshow(\"ball\", hsv_roi)\n",
    "plt.hist(img.ravel(),256,[0,256])\n",
    "plt.show()\n",
    "\n",
    "\n",
    "cap = cv2.VideoCapture(0)\n",
    "\n",
    "term_criteria = (cv2.TERM_CRITERIA_EPS | cv2.TERM_CRITERIA_COUNT, 10, 1)\n",
    "while True:\n",
    "    _,frame = cap.read()\n",
    "    blurred_frame = cv2.GaussianBlur(frame,(5,5),0)\n",
    "    hsv = cv2.cvtColor(blurred_frame,cv2.COLOR_BGR2HSV)\n",
    "    \n",
    "    #change the lower_blue and upper_blue according to the light\n",
    "    lower_green = np.array([35,35,35])\n",
    "    upper_green = np.array([90,255,255])\n",
    "    mask = cv2.inRange(hsv,lower_green,upper_green)\n",
    "    ret, track_Window = cv2.CamShift(mask, (x,y,width,height), term_criteria)\n",
    "    pts = cv2.boxPoints(ret)\n",
    "    pts = np.int0(pts)\n",
    "    cv2.polylines(frame,[pts], True, (255,0,0),2)\n",
    "    \n",
    "    contours,hierarchy = cv2.findContours(mask, cv2.RETR_TREE, cv2.CHAIN_APPROX_SIMPLE)\n",
    "    \n",
    "\n",
    "\n",
    "    for contour in contours:\n",
    "        (x,y,w,h) = cv2.boundingRect(contour)\n",
    "        \n",
    "        \n",
    "        area = cv2.contourArea(contour)\n",
    "        \n",
    "        cv2.rectangle(frame,(x,y),(x+w,y+h),(255,0,0),3)\n",
    "        cv2.putText(frame, str(area), (x,y),0,1,(255,255,0))\n",
    "        cv2.imshow('Mask',mask)\n",
    "        #use it later as it's getting struck\n",
    "        #cv2.putText(frame, str(contours),(x+w,y+h),1,2,(255,255,0))\n",
    "        \n",
    "    \n",
    "       # print('Area' ,area)\n",
    "        \n",
    "        \n",
    "    cv2.drawContours(frame,contours,-1,(0,255,0),3)\n",
    "    cv2.imshow(\"Frame\",frame)\n",
    "    cv2.imshow(\"Mask\",mask)\n",
    "\n",
    "    \n",
    "    \n",
    "    key = cv2.waitKey(1)\n",
    "    \n",
    "    if key == 27:\n",
    "        break\n",
    "        \n",
    "cap.release()\n",
    "cv2.destroyAllWindows()"
   ]
  },
  {
   "cell_type": "code",
   "execution_count": null,
   "metadata": {},
   "outputs": [],
   "source": []
  },
  {
   "cell_type": "code",
   "execution_count": null,
   "metadata": {},
   "outputs": [],
   "source": []
  }
 ],
 "metadata": {
  "kernelspec": {
   "display_name": "Python 3",
   "language": "python",
   "name": "python3"
  },
  "language_info": {
   "codemirror_mode": {
    "name": "ipython",
    "version": 3
   },
   "file_extension": ".py",
   "mimetype": "text/x-python",
   "name": "python",
   "nbconvert_exporter": "python",
   "pygments_lexer": "ipython3",
   "version": "3.8.5"
  }
 },
 "nbformat": 4,
 "nbformat_minor": 4
}
