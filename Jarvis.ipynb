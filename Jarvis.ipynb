{
 "cells": [
  {
   "cell_type": "code",
   "execution_count": 2,
   "metadata": {},
   "outputs": [],
   "source": [
    "import pyttsx3\n",
    "import datetime\n",
    "import speech_recognition as sr \n",
    "import wikipedia\n",
    "import webbrowser\n",
    "import numpy as np\n",
    "import os\n",
    "import random\n",
    "from smtplib import SMTP\n",
    "import urllib.request\n",
    "import regex as re"
   ]
  },
  {
   "cell_type": "code",
   "execution_count": 3,
   "metadata": {},
   "outputs": [],
   "source": [
    "engine = pyttsx3.init('sapi5')\n",
    "voices = engine.getProperty('voices')\n",
    "engine.setProperty('voice', voices[0].id)"
   ]
  },
  {
   "cell_type": "code",
   "execution_count": 4,
   "metadata": {},
   "outputs": [],
   "source": [
    "def speak(audio):\n",
    "    engine.say(audio)\n",
    "    engine.runAndWait()"
   ]
  },
  {
   "cell_type": "code",
   "execution_count": 5,
   "metadata": {},
   "outputs": [],
   "source": [
    "def time():\n",
    "    Time  = datetime.datetime.now().strftime('%I:%M:%S')\n",
    "    speak(f' {Time}')\n",
    "\n",
    "def date():\n",
    "    date = (datetime.datetime.now().day)\n",
    "    year = (datetime.datetime.now().year)\n",
    "    month = (datetime.datetime.now().month)\n",
    "    if month == 1:\n",
    "        month = 'January'\n",
    "    elif month == 2:\n",
    "        month = 'february'\n",
    "    elif month == 3:\n",
    "        month = 'March'\n",
    "    elif month == 4:\n",
    "        month = 'April'\n",
    "    elif month == 5:\n",
    "        month = 'May'\n",
    "    elif month == 6:\n",
    "        month = 'June'\n",
    "    elif month == 7:\n",
    "        month = 'July'\n",
    "    elif month == 8:\n",
    "        month = 'Aaugust'\n",
    "    elif month == 9:\n",
    "        month = 'September'\n",
    "    elif month == 10:\n",
    "        month = 'October'\n",
    "    elif month == 11:\n",
    "        month = 'November'\n",
    "    elif month == 12:\n",
    "        month = 'December'\n",
    "        \n",
    "    \n",
    "    speak(f'{date},{month},{year}')"
   ]
  },
  {
   "cell_type": "code",
   "execution_count": 6,
   "metadata": {},
   "outputs": [],
   "source": [
    "def wishme():\n",
    "    hour = datetime.datetime.now().hour\n",
    "    if hour >=6 & hour < 12:\n",
    "        speak('Good Morning Mr Kumar ! I am jarvis , It''s my pleasure meeting you . How may I help you ')\n",
    "    elif hour >=12 & hour < 18:\n",
    "        speak('Good Afternoon Mr Kumar ! I am jarvis , It''s my pleasure meeting you . How may I help you')\n",
    "    elif hour >=18 & hour <24:\n",
    "        speak('Good Evening sir Mr Kumar ! I am jarvis , It''s my pleasure meeting you . How may I help you ')\n",
    "    else:\n",
    "        speak('According to you schedule you should sleep sir!')"
   ]
  },
  {
   "cell_type": "code",
   "execution_count": 7,
   "metadata": {},
   "outputs": [],
   "source": [
    "def takeCommand():\n",
    "    \n",
    "    r = sr.Recognizer()\n",
    "    with sr.Microphone() as microphone:\n",
    "        print('Listening ..')\n",
    "        r.pause_threshold = 1\n",
    "        audio = r.listen(microphone)\n",
    "    try:\n",
    "        print('Recognizing...')\n",
    "        query = r.recognize_google(audio,language = 'en-in')\n",
    "        print(f'User said {query}\\n')\n",
    "        \n",
    "    except Exception as e:\n",
    "        #print(e)\n",
    "        print('Say that again please...')\n",
    "        return 'None'\n",
    "    return query"
   ]
  },
  {
   "cell_type": "code",
   "execution_count": 8,
   "metadata": {},
   "outputs": [
    {
     "name": "stdout",
     "output_type": "stream",
     "text": [
      "Listening ..\n",
      "Recognizing...\n",
      "User said hello Jarvis can you please play music for me\n",
      "\n",
      "Listening ..\n",
      "Recognizing...\n",
      "User said I would like to listen romantic and after\n",
      "\n",
      "Listening ..\n",
      "Recognizing...\n",
      "User said yeah yes\n",
      "\n",
      "Listening ..\n",
      "Recognizing...\n",
      "User said no\n",
      "\n"
     ]
    }
   ],
   "source": [
    "if __name__=='__main__':\n",
    "    wishme()\n",
    "    while True:\n",
    "        query = takeCommand().lower()\n",
    "        query_output = query.split(' ')\n",
    "        if 'open' in query:\n",
    "            index_open = query_output.index('open')\n",
    "            #print(index_open)\n",
    "            web = query_output[index_open + 1]\n",
    "            speak(f'opening {web}...')\n",
    "            #print(web)\n",
    "            if 'open' in query:\n",
    "                webbrowser.open(f'{web}.com')    \n",
    "                if web =='youtube':\n",
    "                    speak('Which video you want me to play for you ?')\n",
    "                    query = takeCommand().lower()\n",
    "                    query_output = query.split(' ')\n",
    "                    if 'play' in query:\n",
    "                        index_open = query_output.index('play')\n",
    "                        web = query_output[index_open + 1]\n",
    "                        speak(f'playing {web}...')\n",
    "                        search_keyword = web\n",
    "                        html = urllib.request.urlopen('https://www.youtube.com/results?search_query=' + f'{web}')\n",
    "                        video_ids = re.findall(r\"watch\\?v=(\\S{11})\",html.read().decode())\n",
    "                        video_init_link = 'https://www.youtube.com/watch?v='\n",
    "                        video_last_link = video_ids[random.randint(1,4)]\n",
    "                        video =  video_init_link + video_last_link\n",
    "                        print(video)\n",
    "                        webbrowser.open('https://www.youtube.com/watch?v=' + video_ids[random.randint(1,4)])\n",
    "                        break\n",
    "                        \n",
    "        elif 'play music' or 'play song' in query:\n",
    "            speak('Which genre of music would you like to listen Boss?')\n",
    "            query = takeCommand().lower()\n",
    "            \n",
    "            if 'classical' in query:\n",
    "                music_dir = 'C:\\\\Users\\\\Ankit Kumar\\\\OneDrive\\\\Desktop\\\\Jarvis Data\\\\Songs\\\\Classical'\n",
    "                songs = os.listdir(music_dir)\n",
    "                    #print(len(songs))\n",
    "                os.startfile(os.path.join(music_dir,songs[random.randint(1,len(songs))])) \n",
    "                break\n",
    "\n",
    "\n",
    "            \n",
    "            elif ' romantic' or 'love' in query:\n",
    "                speak('Is ma''am comming home sir?')\n",
    "                query = takeCommand().lower()\n",
    "                if 'yes' in query:\n",
    "                    speak('would you like me to make some arrangements or reservations? There''s a  new romantic cafe near with 5 star ratings' )\n",
    "                    query = takeCommand().lower()\n",
    "                    if 'no' in query:\n",
    "                        speak('Enjoy your song sir')\n",
    "                        music_dir = 'C:\\\\Users\\\\Ankit Kumar\\\\OneDrive\\\\Desktop\\\\Jarvis Data\\\\Songs\\\\Romantic'\n",
    "                        songs = os.listdir(music_dir)\n",
    "                        os.startfile(os.path.join(music_dir,songs[0]))                        \n",
    "                else:\n",
    "                    speak('Enjoy your song sir')\n",
    "                    music_dir = 'C:\\\\Users\\\\Ankit Kumar\\\\OneDrive\\\\Desktop\\\\Jarvis Data\\\\Songs\\\\Romantic'\n",
    "                    songs = os.listdir(music_dir)\n",
    "                    os.startfile(os.path.join(music_dir,songs[0]))\n",
    "                break\n",
    "            else: \n",
    "                break\n",
    "        else:\n",
    "            break\n",
    "\n",
    "\n",
    "                        \n"
   ]
  },
  {
   "cell_type": "code",
   "execution_count": null,
   "metadata": {},
   "outputs": [],
   "source": []
  },
  {
   "cell_type": "code",
   "execution_count": null,
   "metadata": {},
   "outputs": [],
   "source": [
    " "
   ]
  },
  {
   "cell_type": "code",
   "execution_count": null,
   "metadata": {},
   "outputs": [],
   "source": []
  },
  {
   "cell_type": "code",
   "execution_count": null,
   "metadata": {},
   "outputs": [],
   "source": []
  },
  {
   "cell_type": "code",
   "execution_count": null,
   "metadata": {},
   "outputs": [],
   "source": []
  },
  {
   "cell_type": "code",
   "execution_count": null,
   "metadata": {},
   "outputs": [],
   "source": []
  },
  {
   "cell_type": "code",
   "execution_count": null,
   "metadata": {},
   "outputs": [],
   "source": []
  },
  {
   "cell_type": "code",
   "execution_count": null,
   "metadata": {},
   "outputs": [],
   "source": []
  },
  {
   "cell_type": "code",
   "execution_count": null,
   "metadata": {},
   "outputs": [],
   "source": []
  },
  {
   "cell_type": "code",
   "execution_count": null,
   "metadata": {},
   "outputs": [],
   "source": []
  },
  {
   "cell_type": "code",
   "execution_count": null,
   "metadata": {},
   "outputs": [],
   "source": []
  },
  {
   "cell_type": "code",
   "execution_count": null,
   "metadata": {},
   "outputs": [],
   "source": []
  },
  {
   "cell_type": "code",
   "execution_count": null,
   "metadata": {},
   "outputs": [],
   "source": []
  },
  {
   "cell_type": "code",
   "execution_count": null,
   "metadata": {},
   "outputs": [],
   "source": []
  },
  {
   "cell_type": "code",
   "execution_count": null,
   "metadata": {},
   "outputs": [],
   "source": []
  },
  {
   "cell_type": "code",
   "execution_count": null,
   "metadata": {},
   "outputs": [],
   "source": []
  },
  {
   "cell_type": "code",
   "execution_count": null,
   "metadata": {},
   "outputs": [],
   "source": []
  },
  {
   "cell_type": "code",
   "execution_count": null,
   "metadata": {},
   "outputs": [],
   "source": []
  },
  {
   "cell_type": "code",
   "execution_count": null,
   "metadata": {},
   "outputs": [],
   "source": []
  },
  {
   "cell_type": "code",
   "execution_count": null,
   "metadata": {},
   "outputs": [],
   "source": []
  },
  {
   "cell_type": "code",
   "execution_count": null,
   "metadata": {},
   "outputs": [],
   "source": []
  },
  {
   "cell_type": "code",
   "execution_count": null,
   "metadata": {},
   "outputs": [],
   "source": []
  },
  {
   "cell_type": "code",
   "execution_count": null,
   "metadata": {},
   "outputs": [],
   "source": []
  },
  {
   "cell_type": "code",
   "execution_count": null,
   "metadata": {},
   "outputs": [],
   "source": []
  },
  {
   "cell_type": "code",
   "execution_count": null,
   "metadata": {},
   "outputs": [],
   "source": []
  },
  {
   "cell_type": "code",
   "execution_count": null,
   "metadata": {},
   "outputs": [],
   "source": []
  },
  {
   "cell_type": "code",
   "execution_count": null,
   "metadata": {},
   "outputs": [],
   "source": []
  },
  {
   "cell_type": "code",
   "execution_count": null,
   "metadata": {},
   "outputs": [],
   "source": []
  },
  {
   "cell_type": "code",
   "execution_count": null,
   "metadata": {},
   "outputs": [],
   "source": []
  },
  {
   "cell_type": "code",
   "execution_count": null,
   "metadata": {},
   "outputs": [],
   "source": []
  },
  {
   "cell_type": "code",
   "execution_count": null,
   "metadata": {},
   "outputs": [],
   "source": []
  },
  {
   "cell_type": "code",
   "execution_count": null,
   "metadata": {},
   "outputs": [],
   "source": []
  },
  {
   "cell_type": "code",
   "execution_count": null,
   "metadata": {},
   "outputs": [],
   "source": []
  },
  {
   "cell_type": "code",
   "execution_count": null,
   "metadata": {},
   "outputs": [],
   "source": []
  },
  {
   "cell_type": "code",
   "execution_count": null,
   "metadata": {},
   "outputs": [],
   "source": []
  },
  {
   "cell_type": "code",
   "execution_count": null,
   "metadata": {},
   "outputs": [],
   "source": []
  },
  {
   "cell_type": "code",
   "execution_count": null,
   "metadata": {},
   "outputs": [],
   "source": []
  },
  {
   "cell_type": "code",
   "execution_count": null,
   "metadata": {},
   "outputs": [],
   "source": []
  },
  {
   "cell_type": "code",
   "execution_count": null,
   "metadata": {},
   "outputs": [],
   "source": []
  },
  {
   "cell_type": "code",
   "execution_count": null,
   "metadata": {},
   "outputs": [],
   "source": []
  },
  {
   "cell_type": "code",
   "execution_count": null,
   "metadata": {},
   "outputs": [],
   "source": []
  }
 ],
 "metadata": {
  "kernelspec": {
   "display_name": "Python 3",
   "language": "python",
   "name": "python3"
  },
  "language_info": {
   "codemirror_mode": {
    "name": "ipython",
    "version": 3
   },
   "file_extension": ".py",
   "mimetype": "text/x-python",
   "name": "python",
   "nbconvert_exporter": "python",
   "pygments_lexer": "ipython3",
   "version": "3.8.5"
  }
 },
 "nbformat": 4,
 "nbformat_minor": 4
}
